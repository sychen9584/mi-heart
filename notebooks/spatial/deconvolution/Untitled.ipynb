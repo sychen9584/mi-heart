{
 "cells": [
  {
   "cell_type": "code",
   "execution_count": 1,
   "id": "59f68c0f-dc9a-4e7f-bcb3-4d00213eab08",
   "metadata": {},
   "outputs": [
    {
     "name": "stderr",
     "output_type": "stream",
     "text": [
      "/home/jupyter/heart/.venv/lib/python3.10/site-packages/rpy2/rinterface/__init__.py:1211: UserWarning: Environment variable \"PWD\" redefined by R and overriding existing variable. Current: \"/home/jupyter\", R: \"/home/jupyter/heart/notebooks/spatial/deconvolution\"\n",
      "  warnings.warn(\n",
      "/home/jupyter/heart/.venv/lib/python3.10/site-packages/rpy2/rinterface/__init__.py:1211: UserWarning: Environment variable \"R_SESSION_TMPDIR\" redefined by R and overriding existing variable. Current: \"/var/tmp/Rtmp5UkcqE\", R: \"/var/tmp/RtmpSDYrke\"\n",
      "  warnings.warn(\n",
      "/var/tmp/ipykernel_118736/1779446364.py:4: DeprecationWarning: The global conversion available with activate() is deprecated and will be removed in the next major release. Use a local converter.\n",
      "  anndata2ri.activate()\n"
     ]
    }
   ],
   "source": [
    "# Setting up R dependencies\n",
    "import anndata2ri\n",
    "\n",
    "anndata2ri.activate()\n",
    "\n",
    "%load_ext rpy2.ipython\n"
   ]
  },
  {
   "cell_type": "code",
   "execution_count": 2,
   "id": "33240650-fcb1-4092-84a7-a555dbb02b2e",
   "metadata": {},
   "outputs": [
    {
     "name": "stdout",
     "output_type": "stream",
     "text": [
      "R version 4.3.3 (2024-02-29)\n"
     ]
    }
   ],
   "source": [
    "import rpy2.robjects as ro\n",
    "\n",
    "# This will print your linked R version\n",
    "print(ro.r(\"R.version.string\")[0])"
   ]
  },
  {
   "cell_type": "code",
   "execution_count": null,
   "id": "0277fe0c-8e86-45cc-a361-1a60cf227962",
   "metadata": {},
   "outputs": [],
   "source": []
  }
 ],
 "metadata": {
  "environment": {
   "kernel": "uv-rpy2",
   "name": "workbench-notebooks.m129",
   "type": "gcloud",
   "uri": "us-docker.pkg.dev/deeplearning-platform-release/gcr.io/workbench-notebooks:m129"
  },
  "kernelspec": {
   "display_name": "uv-rpy2 (Local)",
   "language": "python",
   "name": "uv-rpy2"
  },
  "language_info": {
   "codemirror_mode": {
    "name": "ipython",
    "version": 3
   },
   "file_extension": ".py",
   "mimetype": "text/x-python",
   "name": "python",
   "nbconvert_exporter": "python",
   "pygments_lexer": "ipython3",
   "version": "3.10.16"
  }
 },
 "nbformat": 4,
 "nbformat_minor": 5
}
